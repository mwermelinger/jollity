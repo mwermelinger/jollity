{
 "cells": [
  {
   "cell_type": "markdown",
   "metadata": {},
   "source": [
    "# Jollity User Manual\n",
    "\n",
    "Jollity is a small library of functions that process Jupyter notebooks.\n",
    "This manual explains how to use Jollity but also serves as testbed.\n",
    "\n",
    "Jollity does _not_ convert notebooks from/to other formats.\n",
    "There are plenty of tools for that."
   ]
  }
 ],
 "metadata": {
  "jupytext": {
   "cell_metadata_filter": "-all",
   "main_language": "python",
   "notebook_metadata_filter": "-all"
  }
 },
 "nbformat": 4,
 "nbformat_minor": 4
}
