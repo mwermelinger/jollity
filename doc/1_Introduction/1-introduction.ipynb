{
 "cells": [
  {
   "cell_type": "markdown",
   "metadata": {},
   "source": [
    "# Introduction\n",
    "\n",
    "This documentation is authored in Markdown.\n",
    "The source files are in folder `md` and script `generate_doc.py`\n",
    "regenerates the notebooks in folder `doc` whenever it's executed.\n",
    "The script uses [Jupytext](https://jupytext.readthedocs.io) to convert\n",
    "a Markdown file to a Jupyter notebook."
   ]
  }
 ],
 "metadata": {
  "jupytext": {
   "cell_metadata_filter": "-all",
   "main_language": "python",
   "notebook_metadata_filter": "-all"
  }
 },
 "nbformat": 4,
 "nbformat_minor": 4
}
