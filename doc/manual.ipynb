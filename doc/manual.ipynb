{
 "cells": [
  {
   "cell_type": "markdown",
   "metadata": {
    "deletable": false,
    "editable": true,
    "jollity": {
     "header": "Jollity User Manual",
     "level": 1
    }
   },
   "source": [
    "# Jollity User Manual"
   ]
  },
  {
   "cell_type": "markdown",
   "metadata": {
    "deletable": false,
    "editable": true
   },
   "source": [
    "Jollity is a small library of functions that process Jupyter notebooks.\n",
    "They can:\n",
    "\n",
    "- Remove HTML comments from Markdown cells.\n",
    "- Prevent cells from being deleted or edited.\n",
    "- Replace a mnemonic label with an URL.\n",
    "\n",
    "Jollity does _not_ convert notebooks from/to other formats,\n",
    "like Markdown, PDF and HTML.\n",
    "There are plenty of tools for that, including [pandoc](https://pandoc.org),\n",
    "[nbconvert](https://nbconvert.readthedocs.io), [Jupytext](https://jupytext.readthedocs.io),\n",
    "[nbsphinx](https://nbsphinx.readthedocs.io) and [Jupyter Book](https://jupyterbook.org).\n",
    "\n",
    "Jollity uses the `NotebookNode` class of the `nbformat` module to\n",
    "represent a notebook in memory.\n",
    "Each function takes an instance of that class and modifies it.\n",
    "To process your notebooks, you will need to write code like this:\n",
    "```py\n",
    "import glob\n",
    "import jollity\n",
    "import nbformat\n",
    "\n",
    "# go through all notebooks in `folder` or a subfolder of it\n",
    "for file in glob.iglob('folder/**/*.ipynb', recursive=True):\n",
    "    notebook = nbformat.read(file, 4)   # 4 is the notebook format version\n",
    "    jollity.one_function(notebook)\n",
    "    jollity.another_function(notebook)\n",
    "    nbformat.write(notebook, file)      # overwrites the original file\n",
    "```\n",
    "If you wish to preserve the original,\n",
    "write the processed notebook to a different file or folder.\n",
    "\n",
    "\n",
    "For an example of how to use Jollity, see script `generate_doc.py`.\n",
    "It reads the source Markdown files of this manual in folder `md`\n",
    "and regenerates the notebooks in folder `doc`.\n",
    "The script uses [Jupytext](https://jupytext.readthedocs.io) to convert\n",
    "a Markdown file to a Jupyter notebook.\n",
    "\n",
    "The Jollity functions log any warnings and errors as they process notebooks.\n",
    "By default, the warning and error messages are printed on the screen,\n",
    "but you can collect them in a file.\n",
    "\n",
    "If you're using a bash-like command line, you can type\n",
    "`python your_script.py 2> log_file` to redirect the messages,\n",
    "for example `python generate_doc.py 2> log.txt`.\n",
    "This will overwrite the log file every time you run your script.\n",
    "\n",
    "Alternatively, add the following to your script:\n",
    "```py\n",
    "import logging\n",
    "\n",
    "logging.basicConfig(filename='log.txt')\n",
    "```\n",
    "This will append the messages to the file, if it exists.\n",
    "In this way you can preserve the log of previous runs of your script.\n",
    "If you want the log file to start afresh every time you run the script, write\n",
    "```py\n",
    "logging.basicConfig(filename='log.txt', filemode='w')\n",
    "```"
   ]
  },
  {
   "cell_type": "markdown",
   "metadata": {
    "deletable": false,
    "editable": true,
    "jollity": {
     "header": "Remove comments",
     "level": 2
    }
   },
   "source": [
    "## Remove comments"
   ]
  },
  {
   "cell_type": "markdown",
   "metadata": {
    "deletable": false,
    "editable": true
   },
   "source": [
    "When authoring, you may wish to keep notes, ideas, draft paragraphs,\n",
    "alternative exercise solutions, to-do reminders and similar kinds of text\n",
    "in the notebook, where it's relevant, rather than in a separate document.\n",
    "You can write such text within HTML comments,\n",
    "so that it isn't rendered in the notebook.\n",
    "However, readers will see the comments if they edit the cells.\n",
    "Jollity can remove them before you deliver the notebooks to your audience.\n",
    "```py\n",
    "jollity.remove_comments(nb, special:str)\n",
    "```\n",
    "This function removes HTML comments from all Markdown cells in notebook `nb`.\n",
    "In line with the CommonMark specification, this function only removes comments\n",
    "that start with `<!--` at the beginning of a line, preceded by at most\n",
    "three spaces.\n",
    "\n",
    "Argument `special` is a regular expression.\n",
    "If the start of a comment matches it, the comment is not removed.\n",
    "\n",
    "This function is usually called before the others.\n",
    "\n",
    "<!-- This comment is kept. -->"
   ]
  },
  {
   "cell_type": "markdown",
   "metadata": {
    "deletable": false,
    "editable": true,
    "jollity": {
     "header": "Extract headers",
     "level": 2
    }
   },
   "source": [
    "## Extract headers"
   ]
  },
  {
   "cell_type": "markdown",
   "metadata": {
    "deletable": false,
    "editable": true
   },
   "source": [
    "```py\n",
    "extract_headers(nb)\n",
    "```\n",
    "This function puts headers in their own Markdown cells, with extra metadata to\n",
    "make their subsequent processing easier. Jollity only detects ATX headers,\n",
    "i.e. those starting with one or more hash symbols.\n",
    "Lines starting with hash symbols within code blocks are not considered headers.\n",
    "A code block starts and ends with triple backticks.\n",
    "```\n",
    "WARNING:Skipped heading level:...\n",
    "```\n",
    "This message indicates that header `...` is more than one level below\n",
    "the previous header, for example you went from a level 1 to a level 3 header\n",
    "without any level-2 header in between."
   ]
  },
  {
   "cell_type": "markdown",
   "metadata": {
    "deletable": false,
    "editable": true,
    "jollity": {
     "header": "Warning: level-4 heading",
     "level": 4
    }
   },
   "source": [
    "#### Warning: level-4 heading"
   ]
  },
  {
   "cell_type": "markdown",
   "metadata": {
    "deletable": false,
    "editable": true
   },
   "source": []
  },
  {
   "cell_type": "markdown",
   "metadata": {
    "deletable": false,
    "editable": true,
    "jollity": {
     "header": "Add non-breaking spaces",
     "level": 2
    }
   },
   "source": [
    "## Add non-breaking spaces"
   ]
  },
  {
   "cell_type": "markdown",
   "metadata": {
    "deletable": false,
    "editable": true
   },
   "source": [
    "Text like 'Part&nbsp;1' and '23&nbsp;kg' should use non-breaking spaces.\n",
    "Jollity can automatically insert them.\n",
    "```py\n",
    "add_nbsp(nb, before:str, after:str)\n",
    "```\n",
    "This function goes through the Markdown cells of notebook `nb` and\n",
    "replaces one or more spaces between a word and a digit\n",
    "with a single non-breaking space (`&nbsp;`).\n",
    "Arguments `before` and `after` must be Python\n",
    "[regular expressions](https://docs.python.org/3/library/re.html).\n",
    "They indicate which words come respectively before and after a number for\n",
    "a non-breaking space to be inserted. For example,\n",
    "`add_nbsp(nb, r'Unit|[Cc]ell', r'kg|m')` replaces the space before/after\n",
    "the digit in 'Unit&nbsp;1', 'cell&nbsp;4', '5&nbsp;kg, '3.25&nbsp;metres', '2&nbsp;ms' (milliseconds),\n",
    "'6&nbsp;marble columns', but not in 'unit 1', '5 cells', '3 KG', '3 and 5'.\n",
    "This function replaces spaces, it doesn't create them:\n",
    "it won't insert a non-breaking space in '3kg'.\n",
    "\n",
    "If you don't want any space before or after a digit to be replaced,\n",
    "omit the corresponding argument, for example `add_nbsp(nb, after=r'kg')`\n",
    "replaces spaces only in text like '3&nbsp;kg' and nothing else."
   ]
  },
  {
   "cell_type": "markdown",
   "metadata": {
    "deletable": false,
    "editable": true,
    "jollity": {
     "header": "Expand URLs",
     "level": 2
    }
   },
   "source": [
    "## Expand URLs"
   ]
  },
  {
   "cell_type": "markdown",
   "metadata": {
    "deletable": false,
    "editable": true
   },
   "source": [
    "If you use some URLs repeatedly or URLs that change regularly,\n",
    "like links to the current year's course webpage, Jollity allows you to define\n",
    "a dictionary of labels to URLs and use the labels in Markdown links.\n",
    "Having all URLs in one place makes it easier to update them.\n",
    "```py\n",
    "expand_urls(nb, url:dict)\n",
    "```\n",
    "This function goes through all Markdown cells of notebook `nb` and,\n",
    "for each link `[text](label)` where `label` doesn't start with 'http',\n",
    "replaces `label` with `URL` if\n",
    "the pair `label:URL` occurs in the `url` dictionary.\n",
    "For example, `expand_urls(nb, {'ou':'https://open.ac.uk'})` replaces\n",
    "`[Open University](ou)` with `[Open University](https://open.ac.uk)`.\n",
    "```\n",
    "WARNING:Unknown link label:...\n",
    "```\n",
    "This message indicates that `...` occurs in a link but not in the dictionary.\n",
    "The example above generates this message because `ou` is not in the dictionary\n",
    "created by `generate_doc.py`."
   ]
  },
  {
   "cell_type": "markdown",
   "metadata": {
    "deletable": false,
    "editable": true,
    "jollity": {
     "header": "Replace text",
     "level": 2
    }
   },
   "source": [
    "## Replace text"
   ]
  },
  {
   "cell_type": "markdown",
   "metadata": {
    "deletable": false,
    "editable": true
   },
   "source": [
    "Jollity provides three functions to replace text. \n",
    "They can be used for various purposes."
   ]
  },
  {
   "cell_type": "markdown",
   "metadata": {
    "deletable": false,
    "editable": true,
    "jollity": {
     "header": "Replace characters",
     "level": 3
    }
   },
   "source": [
    "### Replace characters"
   ]
  },
  {
   "cell_type": "markdown",
   "metadata": {
    "deletable": false,
    "editable": true
   },
   "source": [
    "If you frequently need to type special characters for which there's no keyboard\n",
    "shortcut, you can tell Jollity which quick-to-type characters should be\n",
    "replaced with those special characters.\n",
    "```py\n",
    "replace_char(nb, types:str, replacements:list)\n",
    "```\n",
    "This function applies the given replacements to all cells of the given types. \n",
    "The replacements are a list of character pairs (old, new).\n",
    "The replacements are applied in the given order.\n",
    "For example, for my algorithms book I do\n",
    "```py\n",
    "replace_char(nb, 'markdown code', [('ø', 'Θ'), ('·', '×')])\n",
    "```\n",
    "This replaces in all code and markdown cells ø (Alt-o on my keyboard) with \n",
    "uppercase Theta (which has no keyboard shortcut) and then \n",
    "· (Alt-Shift-9) with ×.\n",
    "\n",
    "Jollity replaces all occurrences of the old character by the new character,\n",
    "so make sure you don't use the old character for other purposes.\n",
    "For example, in the rare occasions I do need the dot product sign, I write it\n",
    "in LaTeX: `$\\cdot$`."
   ]
  },
  {
   "cell_type": "markdown",
   "metadata": {
    "deletable": false,
    "editable": true,
    "jollity": {
     "header": "Replace strings",
     "level": 3
    }
   },
   "source": [
    "### Replace strings"
   ]
  },
  {
   "cell_type": "markdown",
   "metadata": {
    "deletable": false,
    "editable": true
   },
   "source": [
    "Jollity can also replace strings with strings. \n",
    "```py\n",
    "replace_char(nb, types:str, replacements:list)\n",
    "```\n",
    "This function is like `replace_char` but with the replacements being a list of \n",
    "pairs of strings, for example\n",
    "```py\n",
    "replace_char(nb, 'markdown', [('(c)', '©'), ('etc.', 'and so on')])\n",
    "```\n",
    "Jollity defines two replacement lists you can pass to this function:\n",
    "\n",
    "- `POWERS` replaces ^ followed by i, n, 0, ..., 9 with superscripts\n",
    "  ⁱ, ⁿ, ⁰, ..., ⁹. To avoid making these replacements in LaTeX maths,\n",
    "  put braces around the exponent, for example ^{i}.\n",
    "- `FRACTIONS` replaces 1/2, ..., 1/10, 2/3, 3/4 with ½, ..., ⅒, ⅔, ¾."
   ]
  },
  {
   "cell_type": "markdown",
   "metadata": {
    "deletable": false,
    "editable": true,
    "jollity": {
     "header": "Replace regular expressions",
     "level": 3
    }
   },
   "source": [
    "### Replace regular expressions"
   ]
  },
  {
   "cell_type": "markdown",
   "metadata": {
    "deletable": false,
    "editable": true
   },
   "source": [
    "   The most powerful function replaces text that matches a regular expression.\n",
    "```py\n",
    "replace_re(nb, types:str, replacements:list)\n",
    "```\n",
    "This function is like the previous two but the replacements are a list of \n",
    "pairs of regular expressions. For example, the following removes from each cell,\n",
    "including raw cells, blank lines at the start and whitespace at the end.\n",
    "(Removing all whitespace from the start would remove the first line's\n",
    "indentation, which may be significant.)\n",
    "```py\n",
    "jollity.replace_re(nb, 'all', [(r'^\\s*\\n', ''), (r'\\s+$', '')])\n",
    "```"
   ]
  },
  {
   "cell_type": "markdown",
   "metadata": {
    "deletable": false,
    "editable": true,
    "jollity": {
     "header": "(Un)Lock cells",
     "level": 2
    }
   },
   "source": [
    "## (Un)Lock cells"
   ]
  },
  {
   "cell_type": "markdown",
   "metadata": {
    "deletable": false,
    "editable": true
   },
   "source": [
    "Jupyter notebook cells can be locked against accidental deletion or change.\n",
    "If users want to edit or delete a locked cell, they have to unlock it first.\n",
    "A compliant Jupyter notebook interface won't allow users to delete cells\n",
    "that can't be edited.\n",
    "\n",
    "Jollity can lock or unlock cells of certain types for editing and/or deletion.\n",
    "```py\n",
    "set_cells(nb, types:str, edit:bool, delete:bool)\n",
    "```\n",
    "This function sets all cells of the given types to be editable and/or deletable.\n",
    "If you omit the argument, the cell's status isn't changed.\n",
    "This is useful if you for example only want some text cells do be editable.\n",
    "\n",
    "Argument `types` is a string with one or more of `markdown`, `code` and `raw`.\n",
    "If all cells should be set, use the string `'all'`.\n",
    "\n",
    "For example, `set_cells(nb, 'all', delete=False)` prevents all cells from being\n",
    "deleted but leaves their editable status unchanged. The call\n",
    "`set_cells(nb, 'code raw', edit=True, delete=False)` makes all\n",
    "code and raw cells editable but not deletable.\n",
    "The status of Markdown cells is not modified."
   ]
  },
  {
   "cell_type": "markdown",
   "metadata": {
    "deletable": false,
    "editable": true,
    "jollity": {
     "header": "Spaces",
     "level": 2
    }
   },
   "source": [
    "## Spaces"
   ]
  },
  {
   "cell_type": "markdown",
   "metadata": {
    "deletable": false,
    "editable": true
   },
   "source": [
    "In Markdown, two or more spaces at the end of a line represent a line break.\n",
    "It's better to use a backslash as the explicit line break marker.\n",
    "Jollity can report invisible line breaks and replace them with visible ones.\n",
    "```py\n",
    "spaces(nb, fix_breaks:bool)\n",
    "```\n",
    "This function reports invisible line breaks in Markdown cells and,\n",
    "if `fix_breaks` is true, replaces them with a backslash,\\\n",
    "like for this sentence.\n",
    "```\n",
    "WARNING:Invisible line break:...\n",
    "```\n",
    "This message indicates that line `...` has two or more spaces at the end."
   ]
  },
  {
   "cell_type": "markdown",
   "metadata": {
    "deletable": false,
    "editable": true,
    "jollity": {
     "header": "Fix italics",
     "level": 2
    }
   },
   "source": [
    "## Fix italics"
   ]
  },
  {
   "cell_type": "markdown",
   "metadata": {
    "deletable": false,
    "editable": true
   },
   "source": [
    "Some Jupyter interfaces don't render italics text correctly in some situations,\n",
    "for example `[_text_]`.\n",
    "```py\n",
    "fix_italics(nb)\n",
    "```\n",
    "This function replaces underscores with asterisks in some contexts,\n",
    "to avoid the rendering bug. This function may not cater for all the\n",
    "possibilities in your text, so double-check your notebooks."
   ]
  }
 ],
 "metadata": {
  "jupytext": {
   "cell_metadata_filter": "-all",
   "main_language": "python",
   "notebook_metadata_filter": "-all"
  }
 },
 "nbformat": 4,
 "nbformat_minor": 4
}
