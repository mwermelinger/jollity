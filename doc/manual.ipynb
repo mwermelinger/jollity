{
 "cells": [
  {
   "cell_type": "markdown",
   "metadata": {
    "deletable": false,
    "editable": true,
    "lines_to_next_cell": 0
   },
   "source": [
    "# Jollity Manual"
   ]
  },
  {
   "cell_type": "markdown",
   "metadata": {
    "deletable": false,
    "editable": true,
    "lines_to_next_cell": 0
   },
   "source": [
    "Jollity is a small library of Python functions that process Jupyter notebooks.\n",
    "Jollity does _not_ convert notebooks from/to other formats,\n",
    "like Markdown, PDF and HTML.\n",
    "There are plenty of tools for that, including [pandoc](https://pandoc.org),\n",
    "[nbconvert](https://nbconvert.readthedocs.io), [Jupytext](https://jupytext.readthedocs.io),\n",
    "[nbsphinx](https://nbsphinx.readthedocs.io) and [Jupyter Book](https://jupyterbook.org)."
   ]
  },
  {
   "cell_type": "markdown",
   "metadata": {
    "deletable": false,
    "editable": true,
    "lines_to_next_cell": 0
   },
   "source": [
    "## Example"
   ]
  },
  {
   "cell_type": "markdown",
   "metadata": {
    "deletable": false,
    "editable": true,
    "lines_to_next_cell": 0
   },
   "source": [
    "Let's first see an example of how Jollity is used in practice.\n",
    "\n",
    "I'm authoring in Markdown a textbook for M269,\n",
    "the algorithms and data structures module at The Open University, UK.\n",
    "I wrote a Python script that:\n",
    "\n",
    "1. processes the Markdown files\n",
    "2. converts the Markdown files to Jupyter notebooks\n",
    "3. processes the notebooks\n",
    "4. executes the notebooks with nbconvert\n",
    "5. converts the notebooks to PDF and HTML with nbsphinx\n",
    "6. processes the notebooks\n",
    "7. zips all files into an archive for uploading to the M269 website.\n",
    "\n",
    "Markdown cells at the end of stage 2 may look like this:"
   ]
  },
  {
   "cell_type": "markdown",
   "metadata": {
    "deletable": false,
    "editable": true,
    "lines_to_next_cell": 0
   },
   "source": [
    "```\n",
    "The best-case complexity is ø(1) and the worst-case complexity is ø(2^n).\n",
    "<!-- INFO -->\n",
    "Exponential functions were introduced in [MU123](mu123).\n",
    "<!-- INFO -->\n",
    "\n",
    "**Exercise:** Explain why the worst-case is exponential.\n",
    "<!-- ANSWER -->\n",
    "<!-- NOTE -->\n",
    "In practice the worst-case may only occur very rarely.\n",
    "<!-- NOTE -->\n",
    "\n",
    "**Exercise**: Edit the next cell to complete the sentence.\n",
    "<!-- EDIT -->\n",
    "The average-case complexity is ...\n",
    "<!-- EDIT -->\n",
    "```"
   ]
  },
  {
   "cell_type": "markdown",
   "metadata": {
    "deletable": false,
    "editable": true,
    "lines_to_next_cell": 0
   },
   "source": [
    "This example shows the four kinds of special comments used in M269.\n",
    "(You can define your own.)\n",
    "\n",
    "- The `ANSWER` comment becomes a separate Markdown cell with text\n",
    "  '_Write your answer here._' in the final notebook that goes to students,\n",
    "  but nothing appears in the PDF or HTML.\n",
    "- The `INFO` and `NOTE` comments are replaced with HTML code that puts the text\n",
    "  in a coloured box (different colours for info and note boxes).\n",
    "- The text within `EDIT` comments is put in a separate Markdown cell, so that\n",
    "  students don't edit by mistake all other surrounding text.\n",
    "\n",
    "The example also shows the use of special characters or character combinations\n",
    "to make typing the text faster. The script uses Jollity to replace all\n",
    "occurrences of ø with Θ and of ^ followed by n with ⁿ.\n",
    "The ø letter is quick to type on my keyboard (Alt-o), but there's no\n",
    "shortcut for uppercase theta.\n",
    "\n",
    "The script also replaces occurrences of `mu123` within a link\n",
    "with the corresponding URL. Keeping a mapping of abbreviations to URLs\n",
    "avoids repeatedly writing and updating the same URL in several notebooks.\n",
    "\n",
    "Code cells often include `%timeit` commands to measure the run-time of code.\n",
    "This slows down the execution of the code cells in stage 4, so the script\n",
    "can be run in a 'draft' mode that comments out the `%timeit` commands\\\n",
    "before the notebooks are executed.\n",
    "\n",
    "Stage 3 uses Jollity to:\n",
    "\n",
    "- Put the four special comments into their own Markdown cells.\n",
    "- Add HTML code at the start and end of the info and note cells\n",
    "  to generate the boxes.\n",
    "- Strip spaces and newlines from the start and end of each cell.\n",
    "- Do text replacements to obtain special characters like superscripts.\n",
    "- Replace `_text_` with `*text*` in certain contexts to avoid a Jupyter bug when\n",
    "  rendering italicised text.\n",
    "- Replace one or more spaces between certain words and digits with a single\n",
    "  non-breaking space, for example `step 1.2 takes 45 µs` becomes `step&nbsp;1.2 takes 45&nbsp;µs`.\n",
    "- Expand abbreviated URLs and check all URLs lead to existing pages.\n",
    "- Comment out all timing lines in code cells, if in draft mode.\n",
    "- Report code lines longer than 69 characters: they wrap around in the PDF.\n",
    "- Report invisible line breaks in Markdown.\n",
    "- Report when a heading level is skipped.\n",
    "- Remove all code between `# skip` and `# \\skip`,\n",
    "  as illustrated in the [README](../README.md).\n",
    "- If the notebook is the start of a chapter, add at the end a reminder to\n",
    "  check the M269 website for news and errata before working through the chapter.\n",
    "\n",
    "Stage 6 (after execution and conversion to PDF and HTML) uses Jollity to:\n",
    "\n",
    "- Convert the Markdown syntax within the info and note boxes to HTML.\n",
    "  Nbsphinx correctly converts the boxes' Markdown content to PDF and HTML, but\n",
    "  the Jupyter interface can't render Markdown within HTML.\n",
    "- Insert the boilerplate text in the empty `ANSWER` cells.\n",
    "- If a notebook has code, extract it to a separate file, with a copyright\n",
    "  notice before the code. Comment out all IPython commands with `%`.\n",
    "\n",
    "File `m269.py` has the code that calls Jollity to do all the above.\n",
    "The Jollity functions are explained below."
   ]
  },
  {
   "cell_type": "markdown",
   "metadata": {
    "deletable": false,
    "editable": true,
    "lines_to_next_cell": 0
   },
   "source": [
    "## Using Jollity"
   ]
  },
  {
   "cell_type": "markdown",
   "metadata": {
    "deletable": false,
    "editable": true,
    "lines_to_next_cell": 0
   },
   "source": [
    "Jollity uses the `NotebookNode` class of the `nbformat` module to\n",
    "represent a notebook in memory.\n",
    "Each function takes an instance of that class and modifies it.\n",
    "To process your notebooks, you will need to write code like this:"
   ]
  },
  {
   "cell_type": "markdown",
   "metadata": {
    "deletable": false,
    "editable": true,
    "lines_to_next_cell": 0
   },
   "source": [
    "```py\n",
    "import glob\n",
    "import jollity\n",
    "import nbformat\n",
    "\n",
    "# go through all notebooks in `folder` or a subfolder of it\n",
    "for file in glob.iglob('folder/**/*.ipynb', recursive=True):\n",
    "    notebook = nbformat.read(file, 4)   # 4 is the notebook format version\n",
    "    if 'introduction' in file:          # pre-process chapter introductions\n",
    "        jollity.one_function(notebook)\n",
    "    jollity.another_function(notebook)  # same processing for all notebooks\n",
    "    nbformat.write(notebook, file)      # overwrites the original file\n",
    "```"
   ]
  },
  {
   "cell_type": "markdown",
   "metadata": {
    "deletable": false,
    "editable": true,
    "lines_to_next_cell": 0
   },
   "source": [
    "In most authoring workflows you will wish to preserve the original\n",
    "and write the processed notebook to a different file or folder.\n",
    "\n",
    "For an alternative way of going through files in a folder,\n",
    "see script `generate_doc.py`.\n",
    "It reads the source Markdown file of this manual in folder `md`\n",
    "and writes the notebook to folder `doc`.\n",
    "The script uses [Jupytext](https://jupytext.readthedocs.io) to convert\n",
    "a Markdown file to a Jupyter notebook."
   ]
  },
  {
   "cell_type": "markdown",
   "metadata": {
    "deletable": false,
    "editable": true,
    "lines_to_next_cell": 0
   },
   "source": [
    "<div class=\"alert alert-warning\">\n",
    "Jollity requires Python 3.8 or later.\n",
    "</div>"
   ]
  },
  {
   "cell_type": "markdown",
   "metadata": {
    "deletable": false,
    "editable": true,
    "lines_to_next_cell": 0
   },
   "source": [
    "### Logging"
   ]
  },
  {
   "cell_type": "markdown",
   "metadata": {
    "deletable": false,
    "editable": true,
    "lines_to_next_cell": 0
   },
   "source": [
    "The Jollity functions log any warnings and errors as they process notebooks.\n",
    "By default, the warning and error messages are printed on the screen,\n",
    "but you can collect them in a file.\n",
    "\n",
    "If you're using a bash-like command line, you can type\n",
    "`python your_script.py 2> log_file` to redirect the messages,\n",
    "for example `python generate_doc.py 2> log.txt`.\n",
    "This will overwrite the log file every time you run your script.\n",
    "\n",
    "Alternatively, add the following to your script:"
   ]
  },
  {
   "cell_type": "code",
   "execution_count": null,
   "metadata": {
    "lines_to_next_cell": 0
   },
   "outputs": [],
   "source": [
    "import logging\n",
    "\n",
    "logging.basicConfig(filename='log.txt')"
   ]
  },
  {
   "cell_type": "markdown",
   "metadata": {
    "deletable": false,
    "editable": true,
    "lines_to_next_cell": 0
   },
   "source": [
    "This will append the messages to the file, if it exists.\n",
    "In this way you can preserve the log of previous runs of your script.\n",
    "If you want the log file to start afresh every time you run the script, write"
   ]
  },
  {
   "cell_type": "code",
   "execution_count": null,
   "metadata": {},
   "outputs": [],
   "source": [
    "logging.basicConfig(filename='log.txt', filemode='w')"
   ]
  },
  {
   "cell_type": "markdown",
   "metadata": {
    "deletable": false,
    "editable": true
   },
   "source": [
    "## Markdown"
   ]
  },
  {
   "cell_type": "markdown",
   "metadata": {
    "deletable": false,
    "editable": true
   },
   "source": [
    "Jollity doesn't include a full Markdown parser. It only assumes the following:\n",
    "\n",
    "- An HTML comment starts in a line beginning with 0–3 spaces followed by `<!--`.\n",
    "- An HTML comment ends at the first occurrence of `-->`.\n",
    "- A fenced block starts in a line beginning with 0–3 spaces, followed by\n",
    "  3 or more backticks or by 3 or more tildes.\n",
    "- A fenced block ends in a line with 0–3 spaces followed by\n",
    "  at least as many backticks or tildes as it started.\n",
    "- Within HTML comments, backticks and tildes don't start fenced blocks.\n",
    "- Within a fenced block, the characters `<!--` don't start an HTML comment.\n",
    "- A heading is a line of the form: 0–3 spaces, 1-6 hashes, 1 or more spaces,\n",
    "  heading text, optional spaces and hashes.\n",
    "- The end of a Markdown cell also ends any HTML comment or fenced block."
   ]
  },
  {
   "cell_type": "markdown",
   "metadata": {
    "deletable": false,
    "editable": true
   },
   "source": [
    "### Cell kinds"
   ]
  },
  {
   "cell_type": "markdown",
   "metadata": {
    "deletable": false,
    "editable": true
   },
   "source": [
    "Jollity must first divide Markdown cells into particular kinds:\n",
    "headings, text, fenced blocks and special HTML comments.\n",
    "The kind of each cell is stored in the notebook. This allows processing steps\n",
    "to only handle some cells, for example check the levels of headings and\n",
    "ignore all other kinds of cells.\n",
    "\n",
    "An HTML comment is special if it consists of a single word indicated by you.\n",
    "The word is also used to record the kind of comment.\n",
    "Jollity does a case-insensitive matching when looking for special comments, for example\n",
    "the word `answer` will match comments `<!-- ANSWER -->`, `<!-- Answer -->`, etc.\n",
    "\n",
    "You will have to define functions that process special comments.\n",
    "For example, you can have a special comment `<!-- ANSWER -->` that leads to\n",
    "a Markdown cell with text"
   ]
  },
  {
   "cell_type": "markdown",
   "metadata": {
    "deletable": false,
    "editable": true
   },
   "source": [
    "_Write your answer here._"
   ]
  },
  {
   "cell_type": "markdown",
   "metadata": {
    "deletable": false,
    "editable": true
   },
   "source": [
    "in the published notebooks, but nothing in the PDF and HTML versions.\n",
    "\n",
    "You can have block comments that start and end with the same one-line comment.\n",
    "For example, with Jollity you can replace"
   ]
  },
  {
   "cell_type": "markdown",
   "metadata": {
    "deletable": false,
    "editable": true
   },
   "source": [
    "```\n",
    "<!-- NOTE -->\n",
    "Jollity only processes ATX headings, not Setext headings.\n",
    "<!-- NOTE -->\n",
    "```"
   ]
  },
  {
   "cell_type": "markdown",
   "metadata": {
    "deletable": false,
    "editable": true
   },
   "source": [
    "with a coloured alert box:"
   ]
  },
  {
   "cell_type": "markdown",
   "metadata": {
    "deletable": false,
    "editable": true
   },
   "source": [
    "<div class=\"alert alert-warning\">\n",
    "Jollity only processes ATX headings, not Setext headings.\n",
    "</div>"
   ]
  },
  {
   "cell_type": "markdown",
   "metadata": {
    "deletable": false,
    "editable": true
   },
   "source": [
    "If you define `answer` as a single-line comment and `hint` as a block comment,\n",
    "then Jollity will split Markdown cell"
   ]
  },
  {
   "cell_type": "markdown",
   "metadata": {
    "deletable": false,
    "editable": true
   },
   "source": [
    "```\n",
    "## Exercise\n",
    "What can't Jollity do?\n",
    "<!-- Answer: convert formats -->\n",
    "<!-- ANSWER -->\n",
    "<!-- HINT -->\n",
    "Read again the start of this manual.\n",
    "<!-- HINT -->\n",
    "```"
   ]
  },
  {
   "cell_type": "markdown",
   "metadata": {
    "deletable": false,
    "editable": true
   },
   "source": [
    "into four Markdown cells:\n",
    "\n",
    "1. A cell of kind `md:head` with the heading (first line).\n",
    "2. A cell of kind `md:text` with the second and third lines.\n",
    "3. An empty cell of kind `md:answer`.\n",
    "4. A cell of kind `md:hint` with the sixth line.\n",
    "\n",
    "Fenced blocks are put in cells of kind `md:fence`.\n",
    "Fenced blocks are rendered verbatim so you may wish to not process them further.\n",
    "\n",
    "All Markdown cells are of kind `markdown`.\n",
    "The other kinds of cells are `code` and `raw`.\n",
    "\n",
    "Most of Jollity's functions have an argument to indicate which kinds of cells\n",
    "should be processed. If the argument is `all`, every cell is processed.\n",
    "\n",
    "The rest of this manual explains the available functions."
   ]
  },
  {
   "cell_type": "markdown",
   "metadata": {
    "deletable": false,
    "editable": true
   },
   "source": [
    "## Setup"
   ]
  },
  {
   "cell_type": "markdown",
   "metadata": {
    "deletable": false,
    "editable": true
   },
   "source": [
    "```py\n",
    "split_md(nb, line_comments:list, block_comments:list)\n",
    "```"
   ]
  },
  {
   "cell_type": "markdown",
   "metadata": {
    "deletable": false,
    "editable": true
   },
   "source": [
    "This function is usually called first. The arguments are lists of strings.\n",
    "Every single-line or block comment consisting of one of those strings is\n",
    "replaced with a Markdown cell of the kind given by the string.\n",
    "For a single-line comment, the resulting cell is empty; for a block comment,\n",
    "the cell has the content between the start and end of the block.\n",
    "\n",
    "The example above is obtained by calling `split_md(nb, ['answer'], ['hint'])`.\n",
    "\n",
    "<!-- This comment is kept. -->"
   ]
  },
  {
   "cell_type": "markdown",
   "metadata": {
    "deletable": false,
    "editable": true
   },
   "source": [
    "## Header / Footer"
   ]
  },
  {
   "cell_type": "markdown",
   "metadata": {
    "deletable": false,
    "editable": true
   },
   "source": [
    "The next two functions add boilerplate text at the start or end of a notebook,\n",
    "like a copyright notice or\n",
    "'The latest version of this notebook is [here](http://....)'."
   ]
  },
  {
   "cell_type": "markdown",
   "metadata": {
    "deletable": false,
    "editable": true
   },
   "source": [
    "```py\n",
    "prepend(nb, text:str, kind:str='')\n",
    "```"
   ]
  },
  {
   "cell_type": "markdown",
   "metadata": {
    "deletable": false,
    "editable": true
   },
   "source": [
    "If `kind` is omitted, the function inserts text at the start of the first\n",
    "cell in the notebook, whether it's a raw, code or Markdown cell.\n",
    "The text is inserted as-is, i.e. you must include any separator (for example a newline)\n",
    "from the existing text, if you need to.\n",
    "\n",
    "If kind is given, a new cell of that kind, with the given text,\n",
    "is inserted at the start of the notebook.\n",
    "If `kind='md:head'`, the function checks the text is a valid heading.\n",
    "No checks are done for other Markdown kinds. For example,\n",
    "if `kind='md:fence'`, the `text` must include the necessary backticks or tildes."
   ]
  },
  {
   "cell_type": "markdown",
   "metadata": {
    "deletable": false,
    "editable": true
   },
   "source": [
    "```py\n",
    "append(nb, text:str, kind:str='')\n",
    "```"
   ]
  },
  {
   "cell_type": "markdown",
   "metadata": {
    "deletable": false,
    "editable": true
   },
   "source": [
    "This function works like `prepend` but inserts the text at the end of\n",
    "the last cell or creates a new last cell with the text."
   ]
  },
  {
   "cell_type": "markdown",
   "metadata": {
    "deletable": false,
    "editable": true
   },
   "source": [
    "## Check notebook"
   ]
  },
  {
   "cell_type": "markdown",
   "metadata": {
    "deletable": false,
    "editable": true
   },
   "source": [
    "The following functions don't modify a notebook: they only log potential issues.\n",
    "Most functions take as argument the kinds of cells to be analysed.\n",
    "You can indicate several kinds, separated by spaces."
   ]
  },
  {
   "cell_type": "markdown",
   "metadata": {
    "deletable": false,
    "editable": true
   },
   "source": [
    "```py\n",
    "check_breaks(nb, kinds:str)\n",
    "```"
   ]
  },
  {
   "cell_type": "markdown",
   "metadata": {
    "deletable": false,
    "editable": true
   },
   "source": [
    "This function reports all lines ending in two or more spaces:\n",
    "they represent a line break in Markdown.\n",
    "Usually this function is called with `kinds='md:text'`."
   ]
  },
  {
   "cell_type": "markdown",
   "metadata": {
    "deletable": false,
    "editable": true
   },
   "source": [
    "```py\n",
    "check_levels(nb)\n",
    "```"
   ]
  },
  {
   "cell_type": "markdown",
   "metadata": {
    "deletable": false,
    "editable": true
   },
   "source": [
    "This reports any heading that is more than one level below its previous heading."
   ]
  },
  {
   "cell_type": "markdown",
   "metadata": {
    "deletable": false,
    "editable": true
   },
   "source": [
    "```py\n",
    "check_lengths(nb, kinds:str, length:int)\n",
    "```"
   ]
  },
  {
   "cell_type": "markdown",
   "metadata": {
    "deletable": false,
    "editable": true
   },
   "source": [
    "This reports any line longer than the given length.\n",
    "Usually this function is called with `kinds='code md:fence'`, as lines in\n",
    "other kinds of cells simply wrap around at the window edge."
   ]
  },
  {
   "cell_type": "markdown",
   "metadata": {
    "deletable": false,
    "editable": true
   },
   "source": [
    "```py\n",
    "check_urls(nb, kinds:str)\n",
    "```"
   ]
  },
  {
   "cell_type": "markdown",
   "metadata": {
    "deletable": false,
    "editable": true
   },
   "source": [
    "This reports any links of the form `](http...)` that can't be opened,\n",
    "for example because they raise a 404 error."
   ]
  },
  {
   "cell_type": "markdown",
   "metadata": {
    "deletable": false,
    "editable": true
   },
   "source": [
    "#### Test checks"
   ]
  },
  {
   "cell_type": "markdown",
   "metadata": {
    "deletable": false,
    "editable": true
   },
   "source": [
    "This heading (level 4) comes after a level 2 heading, and this sentence\\\n",
    "has an invisible line break, so the log has two messages."
   ]
  },
  {
   "cell_type": "markdown",
   "metadata": {
    "deletable": false,
    "editable": true
   },
   "source": [
    "## Expand URLs"
   ]
  },
  {
   "cell_type": "markdown",
   "metadata": {
    "deletable": false,
    "editable": true
   },
   "source": [
    "If you use some URLs repeatedly or URLs that change every year,\n",
    "like a link to the course webpage, Jollity allows you to define\n",
    "a dictionary of labels to URLs and use the labels in Markdown links.\n",
    "Having all URLs in one place makes it easier to update them."
   ]
  },
  {
   "cell_type": "markdown",
   "metadata": {
    "deletable": false,
    "editable": true
   },
   "source": [
    "```py\n",
    "expand_urls(nb, kinds:str, url:dict)\n",
    "```"
   ]
  },
  {
   "cell_type": "markdown",
   "metadata": {
    "deletable": false,
    "editable": true
   },
   "source": [
    "This function goes through the cells of the given kinds and,\n",
    "for each link `...](label)` where `label` doesn't start with 'http',\n",
    "replaces `label` with `URL` if `label:URL` occurs in the `url` dictionary.\n",
    "For example, `expand_urls(nb, {'ou':'https://www.open.ac.uk'})` replaces\n",
    "`[Open University](ou)` with `[Open University](https://www.open.ac.uk)`."
   ]
  },
  {
   "cell_type": "markdown",
   "metadata": {
    "deletable": false,
    "editable": true
   },
   "source": [
    "## Replace text"
   ]
  },
  {
   "cell_type": "markdown",
   "metadata": {
    "deletable": false,
    "editable": true
   },
   "source": [
    "Jollity provides three functions to replace text.\n",
    "They can be used for various purposes.\n",
    "\n",
    "Each function takes a list of (old, new) string pairs, or a single pair.\n",
    "The function applies the replacements, in the order given,\n",
    "to all cells of the given kinds."
   ]
  },
  {
   "cell_type": "markdown",
   "metadata": {
    "deletable": false,
    "editable": true
   },
   "source": [
    "### Replace characters"
   ]
  },
  {
   "cell_type": "markdown",
   "metadata": {
    "deletable": false,
    "editable": true
   },
   "source": [
    "If you frequently need to type special characters for which there's no keyboard\n",
    "shortcut, you can tell Jollity which quick-to-type characters should be\n",
    "replaced with those special characters."
   ]
  },
  {
   "cell_type": "markdown",
   "metadata": {
    "deletable": false,
    "editable": true
   },
   "source": [
    "```py\n",
    "replace_char(nb, kinds:str, replacements:list)\n",
    "```"
   ]
  },
  {
   "cell_type": "markdown",
   "metadata": {
    "deletable": false,
    "editable": true
   },
   "source": [
    "This function usually only takes a single (old, new) string pair.\n",
    "Both strings must be of the same length:\n",
    "the n-th character in old is replaced with the n-th character in new.\n",
    "If the strings differ in length, there's an error message\n",
    "and no replacement is done.\n",
    "\n",
    "For example,"
   ]
  },
  {
   "cell_type": "markdown",
   "metadata": {
    "deletable": false,
    "editable": true
   },
   "source": [
    "```py\n",
    "replace_char(nb, 'all', ('ø·', 'Θ×'))\n",
    "```"
   ]
  },
  {
   "cell_type": "markdown",
   "metadata": {
    "deletable": false,
    "editable": true
   },
   "source": [
    "replaces in all cells ø (Alt-o on my keyboard) with\n",
    "uppercase Theta (which has no keyboard shortcut) and · (Alt-Shift-9) with ×.\n",
    "\n",
    "Jollity replaces all occurrences of the old character with the new character,\n",
    "so make sure you don't use the old character for other purposes.\n",
    "In the rare occasions I do need the dot product sign, I write it\n",
    "in LaTeX: `$\\cdot$`."
   ]
  },
  {
   "cell_type": "markdown",
   "metadata": {
    "deletable": false,
    "editable": true
   },
   "source": [
    "### Replace strings"
   ]
  },
  {
   "cell_type": "markdown",
   "metadata": {
    "deletable": false,
    "editable": true
   },
   "source": [
    "Jollity can also replace strings with strings."
   ]
  },
  {
   "cell_type": "markdown",
   "metadata": {
    "deletable": false,
    "editable": true
   },
   "source": [
    "```py\n",
    "replace_str(nb, kinds:str, replacements)\n",
    "```"
   ]
  },
  {
   "cell_type": "markdown",
   "metadata": {
    "deletable": false,
    "editable": true
   },
   "source": [
    "This function is like `replace_char` but the string pairs are not\n",
    "interpreted as separate character by character replacements:"
   ]
  },
  {
   "cell_type": "markdown",
   "metadata": {
    "deletable": false,
    "editable": true
   },
   "source": [
    "```py\n",
    "replace_str(nb, 'markdown', [('(c)', '©'), ('etc.', 'and so on')])\n",
    "```"
   ]
  },
  {
   "cell_type": "markdown",
   "metadata": {
    "deletable": false,
    "editable": true
   },
   "source": [
    "Jollity defines two replacement lists you can pass to this function:\n",
    "\n",
    "- `POWERS` replaces ^ followed by i, n, 0, ..., 9 with superscripts\n",
    "  ⁱ, ⁿ, ⁰, ..., ⁹. To avoid making these replacements in LaTeX maths,\n",
    "  put braces around the exponent, for example ^{i}.\n",
    "- `FRACTIONS` replaces 1/2, ..., 1/10, 2/3, 3/4 with ½, ..., ⅒, ⅔, ¾."
   ]
  },
  {
   "cell_type": "markdown",
   "metadata": {
    "deletable": false,
    "editable": true
   },
   "source": [
    "### Replace regular expressions"
   ]
  },
  {
   "cell_type": "markdown",
   "metadata": {
    "deletable": false,
    "editable": true
   },
   "source": [
    "   The most powerful function replaces text that matches a regular expression."
   ]
  },
  {
   "cell_type": "markdown",
   "metadata": {
    "deletable": false,
    "editable": true
   },
   "source": [
    "```py\n",
    "replace_re(nb, kinds:str, replacements)\n",
    "```"
   ]
  },
  {
   "cell_type": "markdown",
   "metadata": {
    "deletable": false,
    "editable": true
   },
   "source": [
    "This function is like the previous two but the strings are regular expressions.\n",
    "With this function you can, among other things:\n",
    "\n",
    "- Remove all leading or all trailing whitespace from cells.\n",
    "- Replace consecutive blank lines with a single one.\n",
    "- Insert text at the beginning or end of every cell of a certain kind.\n",
    "- Replace spaces between certain words and digits with a non-breaking space,\n",
    "  for example turn `Act  1 lasts 2 h` into `Act&nbsp;1 lasts 2&nbsp;h`.\n",
    "- Replace `_text_` with `*text*` in some contexts, to make Jupyter render\n",
    "  italics correctly, for example [*within square brackets*].\n",
    "- Make invisible line breaks (two or more spaces at the end of a line)\n",
    "  visible (with a backslash).\n",
    "\n",
    "You can see examples of the above in file `generate_doc.py`.\n",
    "If you don't know how to write\n",
    "[regular expressions](https://docs.python.org/3/howto/regex.html) in Python,\n",
    "you should learn to: they are very powerful and useful.\n",
    "\n",
    "Jollity defines a regular expression `COMMENTS` for HTML comments. The call"
   ]
  },
  {
   "cell_type": "markdown",
   "metadata": {
    "deletable": false,
    "editable": true
   },
   "source": [
    "```py\n",
    "jollity.replace_re(nb, 'md:text', (jollity.COMMENT, ''))\n",
    "```"
   ]
  },
  {
   "cell_type": "markdown",
   "metadata": {
    "deletable": false,
    "editable": true
   },
   "source": [
    "removes all comments from Markdown text cells, for example"
   ]
  },
  {
   "cell_type": "markdown",
   "metadata": {
    "deletable": false,
    "editable": true
   },
   "source": [
    "```\n",
    "This is some text. <!-- To do: needs rewriting -->\n",
    "<!-- Should have a figure here -->\n",
    "Next line of text.\n",
    "```"
   ]
  },
  {
   "cell_type": "markdown",
   "metadata": {
    "deletable": false,
    "editable": true
   },
   "source": [
    "becomes"
   ]
  },
  {
   "cell_type": "markdown",
   "metadata": {
    "deletable": false,
    "editable": true
   },
   "source": [
    "```\n",
    "This is some text. <!-- To do: needs rewriting -->\n",
    "\n",
    "Next line of text.\n",
    "```"
   ]
  },
  {
   "cell_type": "markdown",
   "metadata": {
    "deletable": false,
    "editable": true
   },
   "source": [
    "because only the second comment begins after 0–3 spaces at the start of a line."
   ]
  },
  {
   "cell_type": "markdown",
   "metadata": {
    "deletable": false,
    "editable": true
   },
   "source": [
    "## Extract code"
   ]
  },
  {
   "cell_type": "markdown",
   "metadata": {
    "deletable": false,
    "editable": true
   },
   "source": [
    "The Jupyter interface allows us to save a notebook as a code file, but it will\n",
    "also include all the text, as comments."
   ]
  },
  {
   "cell_type": "markdown",
   "metadata": {
    "deletable": false,
    "editable": true
   },
   "source": [
    "```py\n",
    "extract_code(nb, headings:bool=True) -> str\n",
    "```"
   ]
  },
  {
   "cell_type": "markdown",
   "metadata": {
    "deletable": false,
    "editable": true
   },
   "source": [
    "This function returns a string will all the code cells content and,\n",
    "if the second argument is true, all the headings, to put the code in context.\n",
    "If the notebook has no code cells, the returned string is empty.\n",
    "This function assumes the code is in Python, R or another language where\n",
    "comment lines start with `#`."
   ]
  },
  {
   "cell_type": "markdown",
   "metadata": {
    "deletable": false,
    "editable": true
   },
   "source": [
    "## Cleanup"
   ]
  },
  {
   "cell_type": "markdown",
   "metadata": {
    "deletable": false,
    "editable": true
   },
   "source": [
    "These functions cleanup the notebook.\n",
    "The `replace_re` function can also be used for that purpose, for example to\n",
    "remove blank lines."
   ]
  },
  {
   "cell_type": "markdown",
   "metadata": {
    "deletable": false,
    "editable": true
   },
   "source": [
    "```py\n",
    "remove_cells(nb, kinds:str, text:str)\n",
    "```"
   ]
  },
  {
   "cell_type": "markdown",
   "metadata": {
    "deletable": false,
    "editable": true
   },
   "source": [
    "This function removes all cells of the given kinds that include text matching\n",
    "the regular expression `text`. Examples:\n",
    "\n",
    "- `remove_cells(nb, 'md:fence', '')` removes all fenced blocks, because any text includes the empty string\n",
    "- `remove_cells(nb, 'all', r'^$')` removes all empty cells."
   ]
  },
  {
   "cell_type": "markdown",
   "metadata": {
    "deletable": false,
    "editable": true
   },
   "source": [
    "```py\n",
    "set_cells(nb, kinds:str, edit:bool, delete:bool)\n",
    "```"
   ]
  },
  {
   "cell_type": "markdown",
   "metadata": {
    "deletable": false,
    "editable": true
   },
   "source": [
    "This function sets all cells of the given kinds to be editable and/or deletable.\n",
    "Jupyter interfaces usually don't allow users to delete cells\n",
    "that can't be edited. Users can still unlock cells for editing and deletion,\n",
    "but they can't do it accidentally.\n",
    "\n",
    "If you omit the argument, the cell's status isn't changed:\n",
    "\n",
    "- `set_cells(nb, 'all', delete=False)` prevents all cells from deletion\n",
    "  but leaves their editable status unchanged\n",
    "- `set_cells(nb, 'code raw', edit=True, delete=False)` makes all code and raw\n",
    "  cells editable but not deletable. The status of Markdown cells isn't modified."
   ]
  },
  {
   "cell_type": "markdown",
   "metadata": {
    "deletable": false,
    "editable": true
   },
   "source": [
    "```py\n",
    "remove_metadata(nb, kinds:str)\n",
    "```"
   ]
  },
  {
   "cell_type": "markdown",
   "metadata": {
    "deletable": false,
    "editable": true
   },
   "source": [
    "This function removes all Jollity metadata from the cells of the given kinds.\n",
    "This loses information about the different kinds of Markdown cells.\n",
    "For example, after calling this function with `kinds='md:head'`\n",
    "Jollity won't be able to distinguish heading cells and process them separately.\n",
    "This function is usually called last."
   ]
  }
 ],
 "metadata": {
  "jupytext": {
   "cell_metadata_filter": "-all",
   "main_language": "python",
   "notebook_metadata_filter": "-all"
  }
 },
 "nbformat": 4,
 "nbformat_minor": 4
}
