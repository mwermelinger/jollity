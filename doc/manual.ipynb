{
 "cells": [
  {
   "cell_type": "markdown",
   "metadata": {
    "deletable": false,
    "editable": true,
    "jollity": {
     "heading": "Jollity User Manual",
     "kind": "head",
     "level": 1
    },
    "lines_to_next_cell": 0
   },
   "source": [
    "# Jollity User Manual"
   ]
  },
  {
   "cell_type": "markdown",
   "metadata": {
    "deletable": false,
    "editable": true,
    "jollity": {
     "kind": "text"
    },
    "lines_to_next_cell": 0
   },
   "source": [
    "Jollity is a small library of functions that process Jupyter notebooks.\n",
    "They can:\n",
    "\n",
    "- Remove HTML comments from Markdown cells.\n",
    "- Prevent cells from being deleted or edited.\n",
    "- Replace a mnemonic label with an URL.\n",
    "\n",
    "Jollity does _not_ convert notebooks from/to other formats,\n",
    "like Markdown, PDF and HTML.\n",
    "There are plenty of tools for that, including [pandoc](https://pandoc.org),\n",
    "[nbconvert](https://nbconvert.readthedocs.io), [Jupytext](https://jupytext.readthedocs.io),\n",
    "[nbsphinx](https://nbsphinx.readthedocs.io) and [Jupyter Book](https://jupyterbook.org).\n",
    "\n",
    "Jollity uses the `NotebookNode` class of the `nbformat` module to\n",
    "represent a notebook in memory.\n",
    "Each function takes an instance of that class and modifies it.\n",
    "To process your notebooks, you will need to write code like this:"
   ]
  },
  {
   "cell_type": "markdown",
   "metadata": {
    "deletable": false,
    "editable": true,
    "jollity": {
     "kind": "fence"
    },
    "lines_to_next_cell": 0
   },
   "source": [
    "```py\n",
    "import glob\n",
    "import jollity\n",
    "import nbformat\n",
    "\n",
    "# go through all notebooks in `folder` or a subfolder of it\n",
    "for file in glob.iglob('folder/**/*.ipynb', recursive=True):\n",
    "    notebook = nbformat.read(file, 4)   # 4 is the notebook format version\n",
    "    jollity.one_function(notebook)\n",
    "    jollity.another_function(notebook)\n",
    "    nbformat.write(notebook, file)      # overwrites the original file\n",
    "```"
   ]
  },
  {
   "cell_type": "markdown",
   "metadata": {
    "deletable": false,
    "editable": true,
    "jollity": {
     "kind": "text"
    },
    "lines_to_next_cell": 0
   },
   "source": [
    "If you wish to preserve the original,\n",
    "write the processed notebook to a different file or folder.\n",
    "\n",
    "For an example of how to use Jollity, see script `generate_doc.py`.\n",
    "It reads the source Markdown files of this manual in folder `md`\n",
    "and regenerates the notebooks in folder `doc`.\n",
    "The script uses [Jupytext](https://jupytext.readthedocs.io) to convert\n",
    "a Markdown file to a Jupyter notebook."
   ]
  },
  {
   "cell_type": "markdown",
   "metadata": {
    "deletable": false,
    "editable": true,
    "jollity": {
     "heading": "Logging",
     "kind": "head",
     "level": 2
    },
    "lines_to_next_cell": 0
   },
   "source": [
    "## Logging"
   ]
  },
  {
   "cell_type": "markdown",
   "metadata": {
    "deletable": false,
    "editable": true,
    "jollity": {
     "kind": "text"
    },
    "lines_to_next_cell": 0
   },
   "source": [
    "The Jollity functions log any warnings and errors as they process notebooks.\n",
    "By default, the warning and error messages are printed on the screen,\n",
    "but you can collect them in a file.\n",
    "\n",
    "If you're using a bash-like command line, you can type\n",
    "`python your_script.py 2> log_file` to redirect the messages,\n",
    "for example `python generate_doc.py 2> log.txt`.\n",
    "This will overwrite the log file every time you run your script.\n",
    "\n",
    "Alternatively, add the following to your script:"
   ]
  },
  {
   "cell_type": "code",
   "execution_count": null,
   "metadata": {
    "lines_to_next_cell": 0
   },
   "outputs": [],
   "source": [
    "import logging\n",
    "\n",
    "logging.basicConfig(filename='log.txt')"
   ]
  },
  {
   "cell_type": "markdown",
   "metadata": {
    "deletable": false,
    "editable": true,
    "jollity": {
     "kind": "text"
    },
    "lines_to_next_cell": 0
   },
   "source": [
    "This will append the messages to the file, if it exists.\n",
    "In this way you can preserve the log of previous runs of your script.\n",
    "If you want the log file to start afresh every time you run the script, write"
   ]
  },
  {
   "cell_type": "code",
   "execution_count": null,
   "metadata": {},
   "outputs": [],
   "source": [
    "logging.basicConfig(filename='log.txt', filemode='w')"
   ]
  },
  {
   "cell_type": "markdown",
   "metadata": {
    "deletable": false,
    "editable": true,
    "jollity": {
     "heading": "Markdown",
     "kind": "head",
     "level": 2
    }
   },
   "source": [
    "## Markdown"
   ]
  },
  {
   "cell_type": "markdown",
   "metadata": {
    "deletable": false,
    "editable": true,
    "jollity": {
     "kind": "text"
    }
   },
   "source": [
    "Jollity doesn't include a full Markdown parser. It only assumes the following.\n",
    "\n",
    "- An HTML comment starts in a line beginning with 0–3 spaces followed by `<!--`.\n",
    "- An HTML comment ends at the first occurrence of `-->`.\n",
    "- A fenced block starts in a line beginning with 0–3 spaces, followed by\n",
    "  3 or more backticks or by 3 or more tildes.\n",
    "- A fenced block ends in a line with 0–3 spaces followed by\n",
    "  at least as many backticks or tildes as it started.\n",
    "- Within HTML comments, backticks and tildes don't start fenced blocks.\n",
    "- Within a fenced block, the characters `<!--` don't start an HTML comment.\n",
    "- A heading is a line of the form: 0–3 spaces, 1-6 hashes, 1 or more spaces,\n",
    "  heading text, optional spaces and hashes.\n",
    "- The end of a Markdown cell also ends any HTML comment or fenced block."
   ]
  },
  {
   "cell_type": "markdown",
   "metadata": {
    "deletable": false,
    "editable": true,
    "jollity": {
     "heading": "Split Markdown",
     "kind": "head",
     "level": 2
    }
   },
   "source": [
    "## Split Markdown"
   ]
  },
  {
   "cell_type": "markdown",
   "metadata": {
    "deletable": false,
    "editable": true,
    "jollity": {
     "kind": "text"
    }
   },
   "source": [
    "To facilitate processing, the first step is to split Markdown cells into\n",
    "smaller cells of particular kinds:\n",
    "headings, text, fenced blocks and special HTML comments.\n",
    "The kind of each cell is stored in the notebook. This allows processing steps\n",
    "to only handle some cells, for example only number the headings.\n",
    "\n",
    "An HTML comment is special if it consists of a single word indicated by you.\n",
    "The word is also used to record the kind of comment.\n",
    "Jollity does a case-insensitive matching when looking for special comments, for example\n",
    "the word `answer` will match comments `<!-- ANSWER -->`, `<!-- Answer -->`\n",
    "and others.\n",
    "\n",
    "You will have to define functions that process special comments.\n",
    "For example, you can have a special comment `<!-- ANSWER -->` that leads to\n",
    "a Markdown cell with text"
   ]
  },
  {
   "cell_type": "markdown",
   "metadata": {
    "deletable": false,
    "editable": true,
    "jollity": {
     "kind": "answer"
    }
   },
   "source": [
    "_Write your answer here._"
   ]
  },
  {
   "cell_type": "markdown",
   "metadata": {
    "deletable": false,
    "editable": true,
    "jollity": {
     "kind": "text"
    }
   },
   "source": [
    "in the deployed notebooks, but nothing in the PDF and HTML versions.\n",
    "\n",
    "You can also have block comments: they start and end with the same one-line comment.\n",
    "For example, with Jollity you can replace"
   ]
  },
  {
   "cell_type": "markdown",
   "metadata": {
    "deletable": false,
    "editable": true,
    "jollity": {
     "kind": "fence"
    }
   },
   "source": [
    "```\n",
    "<!-- NOTE -->\n",
    "Jollity only processes ATX headings, not Setext headings.\n",
    "<!-- NOTE -->\n",
    "```"
   ]
  },
  {
   "cell_type": "markdown",
   "metadata": {
    "deletable": false,
    "editable": true,
    "jollity": {
     "kind": "text"
    }
   },
   "source": [
    "with a coloured alert box:"
   ]
  },
  {
   "cell_type": "markdown",
   "metadata": {
    "deletable": false,
    "editable": true,
    "jollity": {
     "kind": "note"
    }
   },
   "source": [
    "<div class=\"alert alert-warning\">\n",
    "Jollity only processes ATX headings, not Setext headings.\n",
    "</div>"
   ]
  },
  {
   "cell_type": "markdown",
   "metadata": {
    "deletable": false,
    "editable": true,
    "jollity": {
     "kind": "fence"
    }
   },
   "source": [
    "```py\n",
    "split_md(nb, line_comments:list, block_comments:list)\n",
    "```"
   ]
  },
  {
   "cell_type": "markdown",
   "metadata": {
    "deletable": false,
    "editable": true,
    "jollity": {
     "kind": "text"
    }
   },
   "source": [
    "This function must be called first. The arguments are lists of strings.\n",
    "Every single-line or block comment consisting of one of those strings is\n",
    "replaced with a Markdown cell of the kind given by the string.\n",
    "For a single-line comment, the resulting cell is empty; for a block comment,\n",
    "the cell has the content between the start and end of the block.\n",
    "\n",
    "For example,\n",
    "the call `split_md(nb, ['answer'], ['hint'])` splits this Markdown text"
   ]
  },
  {
   "cell_type": "markdown",
   "metadata": {
    "deletable": false,
    "editable": true,
    "jollity": {
     "kind": "fence"
    }
   },
   "source": [
    "```\n",
    "## Question\n",
    "Question text.\n",
    "<!-- answer here -->\n",
    "<!-- ANSWER -->\n",
    "<!-- HINT -->\n",
    "Use the same method as in the previous exercise.\n",
    "<!-- HINT -->\n",
    "```"
   ]
  },
  {
   "cell_type": "markdown",
   "metadata": {
    "deletable": false,
    "editable": true,
    "jollity": {
     "kind": "text"
    }
   },
   "source": [
    "into four cells:\n",
    "\n",
    "1. A cell of kind `head` with the heading.\n",
    "2. A cell of kind `text` with the second and third lines.\n",
    "3. An empty cell of kind `answer`.\n",
    "4. A cell of kind `hint` with the sixth line.\n",
    "\n",
    "Fenced blocks are put in cells of kind `fence`.\n",
    "\n",
    "<!-- This comment is kept. -->"
   ]
  },
  {
   "cell_type": "markdown",
   "metadata": {
    "deletable": false,
    "editable": true,
    "jollity": {
     "heading": "Check notebook",
     "kind": "head",
     "level": 2
    }
   },
   "source": [
    "## Check notebook"
   ]
  },
  {
   "cell_type": "markdown",
   "metadata": {
    "deletable": false,
    "editable": true,
    "jollity": {
     "kind": "text"
    }
   },
   "source": [
    "The following functions don't modify a notebook: they only log potential issues.\n",
    "Most functions take as argument the kinds of cells to be analysed."
   ]
  },
  {
   "cell_type": "markdown",
   "metadata": {
    "deletable": false,
    "editable": true,
    "jollity": {
     "kind": "fence"
    }
   },
   "source": [
    "```py\n",
    "check_breaks(nb, kinds:str)\n",
    "```"
   ]
  },
  {
   "cell_type": "markdown",
   "metadata": {
    "deletable": false,
    "editable": true,
    "jollity": {
     "kind": "text"
    }
   },
   "source": [
    "This function reports all lines ending in two or more spaces:\n",
    "they represent a line break in Markdown.\n",
    "Usually this function is called with `kinds='md:text'`."
   ]
  },
  {
   "cell_type": "markdown",
   "metadata": {
    "deletable": false,
    "editable": true,
    "jollity": {
     "kind": "fence"
    }
   },
   "source": [
    "```py\n",
    "check_levels(nb)\n",
    "```"
   ]
  },
  {
   "cell_type": "markdown",
   "metadata": {
    "deletable": false,
    "editable": true,
    "jollity": {
     "kind": "text"
    }
   },
   "source": [
    "This reports any heading that is more than one level below its previous heading."
   ]
  },
  {
   "cell_type": "markdown",
   "metadata": {
    "deletable": false,
    "editable": true,
    "jollity": {
     "kind": "fence"
    }
   },
   "source": [
    "```py\n",
    "check_lengths(nb, kinds:str, length:int)\n",
    "```"
   ]
  },
  {
   "cell_type": "markdown",
   "metadata": {
    "deletable": false,
    "editable": true,
    "jollity": {
     "kind": "text"
    }
   },
   "source": [
    "This reports any line longer than the given length.\n",
    "Usually this function is called on `code` and `md:fence` cells, as other lines\n",
    "simply wrap around at the window edge."
   ]
  },
  {
   "cell_type": "markdown",
   "metadata": {
    "deletable": false,
    "editable": true,
    "jollity": {
     "kind": "fence"
    }
   },
   "source": [
    "```py\n",
    "check_urls(nb, kinds:str)\n",
    "```"
   ]
  },
  {
   "cell_type": "markdown",
   "metadata": {
    "deletable": false,
    "editable": true,
    "jollity": {
     "kind": "text"
    }
   },
   "source": [
    "This reports any links of the form `](http...)` that can't be opened,\n",
    "for example because they raise a 404 error."
   ]
  },
  {
   "cell_type": "markdown",
   "metadata": {
    "deletable": false,
    "editable": true,
    "jollity": {
     "heading": "Test checks",
     "kind": "head",
     "level": 4
    }
   },
   "source": [
    "#### Test checks"
   ]
  },
  {
   "cell_type": "markdown",
   "metadata": {
    "deletable": false,
    "editable": true,
    "jollity": {
     "kind": "text"
    }
   },
   "source": [
    "This heading (level 4) comes after a level 2 heading, and this sentence\\\n",
    "has an invisible line break, so the log has two messages."
   ]
  },
  {
   "cell_type": "markdown",
   "metadata": {
    "deletable": false,
    "editable": true,
    "jollity": {
     "heading": "Remove empty cells",
     "kind": "head",
     "level": 2
    }
   },
   "source": [
    "## Remove empty cells"
   ]
  },
  {
   "cell_type": "markdown",
   "metadata": {
    "deletable": false,
    "editable": true,
    "jollity": {
     "kind": "fence"
    }
   },
   "source": [
    "```py\n",
    "remove_empty(nb, kinds:str)\n",
    "```"
   ]
  },
  {
   "cell_type": "markdown",
   "metadata": {
    "deletable": false,
    "editable": true,
    "jollity": {
     "kind": "text"
    }
   },
   "source": [
    "This function removes all empty cells of the given kinds.\n",
    "A cell with blank lines is _not_ considered empty."
   ]
  },
  {
   "cell_type": "markdown",
   "metadata": {
    "deletable": false,
    "editable": true,
    "jollity": {
     "heading": "Expand URLs",
     "kind": "head",
     "level": 2
    }
   },
   "source": [
    "## Expand URLs"
   ]
  },
  {
   "cell_type": "markdown",
   "metadata": {
    "deletable": false,
    "editable": true,
    "jollity": {
     "kind": "text"
    }
   },
   "source": [
    "If you use some URLs repeatedly or URLs that change regularly,\n",
    "like links to the current year's course webpage, Jollity allows you to define\n",
    "a dictionary of labels to URLs and use the labels in Markdown links.\n",
    "Having all URLs in one place makes it easier to update them."
   ]
  },
  {
   "cell_type": "markdown",
   "metadata": {
    "deletable": false,
    "editable": true,
    "jollity": {
     "kind": "fence"
    }
   },
   "source": [
    "```py\n",
    "expand_urls(nb, kinds:str, url:dict)\n",
    "```"
   ]
  },
  {
   "cell_type": "markdown",
   "metadata": {
    "deletable": false,
    "editable": true,
    "jollity": {
     "kind": "text"
    }
   },
   "source": [
    "This function goes through the cells of the given kinds and,\n",
    "for each link `...](label)` where `label` doesn't start with 'http',\n",
    "replaces `label` with `URL` if\n",
    "the pair `label:URL` occurs in the `url` dictionary.\n",
    "For example, `expand_urls(nb, {'ou':'https://www.open.ac.uk'})` replaces\n",
    "`[Open University](ou)` with `[Open University](https://www.open.ac.uk)`."
   ]
  },
  {
   "cell_type": "markdown",
   "metadata": {
    "deletable": false,
    "editable": true,
    "jollity": {
     "kind": "fence"
    }
   },
   "source": [
    "```\n",
    "WARNING:Unknown link label:...\n",
    "```"
   ]
  },
  {
   "cell_type": "markdown",
   "metadata": {
    "deletable": false,
    "editable": true,
    "jollity": {
     "kind": "text"
    }
   },
   "source": [
    "This message indicates that `...` occurs in a link but not in the dictionary.\n",
    "The paragraph above generates two messages because neither `ou` nor `label`\n",
    "are in the dictionary created by `generate_doc.py`."
   ]
  },
  {
   "cell_type": "markdown",
   "metadata": {
    "deletable": false,
    "editable": true,
    "jollity": {
     "heading": "Replace text",
     "kind": "head",
     "level": 2
    }
   },
   "source": [
    "## Replace text"
   ]
  },
  {
   "cell_type": "markdown",
   "metadata": {
    "deletable": false,
    "editable": true,
    "jollity": {
     "kind": "text"
    }
   },
   "source": [
    "Jollity provides three functions to replace text.\n",
    "They can be used for various purposes.\n",
    "\n",
    "Each function accepts a string with the kinds of cells to be processed:\n",
    "`all` for all cells; `code`, `raw` and `markdown` for all cells of that kind;\n",
    "`md:text`, `md:fence`, `md:head`, etc. for only certain kinds of Markdown cells.\n",
    "\n",
    "Each function takes a list of (old, new) string pairs, or a single pair.\n",
    "The function applies the replacements, in the order given,\n",
    "to all cells of the given kinds."
   ]
  },
  {
   "cell_type": "markdown",
   "metadata": {
    "deletable": false,
    "editable": true,
    "jollity": {
     "heading": "Replace characters",
     "kind": "head",
     "level": 3
    }
   },
   "source": [
    "### Replace characters"
   ]
  },
  {
   "cell_type": "markdown",
   "metadata": {
    "deletable": false,
    "editable": true,
    "jollity": {
     "kind": "text"
    }
   },
   "source": [
    "If you frequently need to type special characters for which there's no keyboard\n",
    "shortcut, you can tell Jollity which quick-to-type characters should be\n",
    "replaced with those special characters."
   ]
  },
  {
   "cell_type": "markdown",
   "metadata": {
    "deletable": false,
    "editable": true,
    "jollity": {
     "kind": "fence"
    }
   },
   "source": [
    "```py\n",
    "replace_char(nb, kinds:str, replacements:list)\n",
    "```"
   ]
  },
  {
   "cell_type": "markdown",
   "metadata": {
    "deletable": false,
    "editable": true,
    "jollity": {
     "kind": "text"
    }
   },
   "source": [
    "This function usually only takes a single (old, new) string pair.\n",
    "Both strings must be of the same length:\n",
    "the n-th character in old is replaced with the n-th character in new.\n",
    "If the strings differ in length, there's an error message\n",
    "and no replacement is done.\n",
    "\n",
    "For example, for my algorithms book I do"
   ]
  },
  {
   "cell_type": "markdown",
   "metadata": {
    "deletable": false,
    "editable": true,
    "jollity": {
     "kind": "fence"
    }
   },
   "source": [
    "```py\n",
    "replace_char(nb, 'markdown code', ('ø·', 'Θ×'))\n",
    "```"
   ]
  },
  {
   "cell_type": "markdown",
   "metadata": {
    "deletable": false,
    "editable": true,
    "jollity": {
     "kind": "text"
    }
   },
   "source": [
    "This replaces in all code and markdown cells ø (Alt-o on my keyboard) with\n",
    "uppercase Theta (which has no keyboard shortcut) and · (Alt-Shift-9) with ×.\n",
    "\n",
    "Jollity replaces all occurrences of the old character by the new character,\n",
    "so make sure you don't use the old character for other purposes.\n",
    "In the rare occasions I do need the dot product sign, I write it\n",
    "in LaTeX: `$\\cdot$`."
   ]
  },
  {
   "cell_type": "markdown",
   "metadata": {
    "deletable": false,
    "editable": true,
    "jollity": {
     "heading": "Replace strings",
     "kind": "head",
     "level": 3
    }
   },
   "source": [
    "### Replace strings"
   ]
  },
  {
   "cell_type": "markdown",
   "metadata": {
    "deletable": false,
    "editable": true,
    "jollity": {
     "kind": "text"
    }
   },
   "source": [
    "Jollity can also replace strings with strings."
   ]
  },
  {
   "cell_type": "markdown",
   "metadata": {
    "deletable": false,
    "editable": true,
    "jollity": {
     "kind": "fence"
    }
   },
   "source": [
    "```py\n",
    "replace_str(nb, kinds:str, replacements)\n",
    "```"
   ]
  },
  {
   "cell_type": "markdown",
   "metadata": {
    "deletable": false,
    "editable": true,
    "jollity": {
     "kind": "text"
    }
   },
   "source": [
    "This function is like `replace_char` but the string pairs are not\n",
    "interpreted as separate character by character replacements:"
   ]
  },
  {
   "cell_type": "markdown",
   "metadata": {
    "deletable": false,
    "editable": true,
    "jollity": {
     "kind": "fence"
    }
   },
   "source": [
    "```py\n",
    "replace_str(nb, 'markdown', [('(c)', '©'), ('etc.', 'and so on')])\n",
    "```"
   ]
  },
  {
   "cell_type": "markdown",
   "metadata": {
    "deletable": false,
    "editable": true,
    "jollity": {
     "kind": "text"
    }
   },
   "source": [
    "Jollity defines two replacement lists you can pass to this function:\n",
    "\n",
    "- `POWERS` replaces ^ followed by i, n, 0, ..., 9 with superscripts\n",
    "  ⁱ, ⁿ, ⁰, ..., ⁹. To avoid making these replacements in LaTeX maths,\n",
    "  put braces around the exponent, for example ^{i}.\n",
    "- `FRACTIONS` replaces 1/2, ..., 1/10, 2/3, 3/4 with ½, ..., ⅒, ⅔, ¾."
   ]
  },
  {
   "cell_type": "markdown",
   "metadata": {
    "deletable": false,
    "editable": true,
    "jollity": {
     "heading": "Replace regular expressions",
     "kind": "head",
     "level": 3
    }
   },
   "source": [
    "### Replace regular expressions"
   ]
  },
  {
   "cell_type": "markdown",
   "metadata": {
    "deletable": false,
    "editable": true,
    "jollity": {
     "kind": "text"
    }
   },
   "source": [
    "   The most powerful function replaces text that matches a regular expression."
   ]
  },
  {
   "cell_type": "markdown",
   "metadata": {
    "deletable": false,
    "editable": true,
    "jollity": {
     "kind": "fence"
    }
   },
   "source": [
    "```py\n",
    "replace_re(nb, kinds:str, replacements)\n",
    "```"
   ]
  },
  {
   "cell_type": "markdown",
   "metadata": {
    "deletable": false,
    "editable": true,
    "jollity": {
     "kind": "text"
    }
   },
   "source": [
    "This function is like the previous two but the strings are regular expressions.\n",
    "With this function you can, among other things:\n",
    "\n",
    "- Remove all leading or all trailing whitespace from cells.\n",
    "- Replace consecutive blank lines with a single one.\n",
    "- Insert text at the beginning or end of every cell of a certain kind.\n",
    "- Replace spaces between certain words and digits with a non-breaking space,\n",
    "  for example turn `Act  1 lasts 2 h` into `Act&nbsp;1 lasts 2&nbsp;h`.\n",
    "- Replace `_text_` with `*text*` in some contexts, to make Jupyter render\n",
    "  italics correctly, for example [*within square brackets*].\n",
    "- Make invisible line breaks (two or more spaces at the end of a line)\n",
    "  visible (with a backslash).\n",
    "\n",
    "If you don't know how to write\n",
    "[regular expressions](https://docs.python.org/3/library/re.html) in Python,\n",
    "you should learn to: they are very powerful.\n",
    "You can see examples of the above in file `generate_doc.py`.\n",
    "\n",
    "Jollity defines a regular expression `COMMENTS` for HTML comments. The call"
   ]
  },
  {
   "cell_type": "markdown",
   "metadata": {
    "deletable": false,
    "editable": true,
    "jollity": {
     "kind": "fence"
    }
   },
   "source": [
    "```py\n",
    "jollity.replace_re(nb, 'md:text', (jollity.COMMENT, ''))\n",
    "```"
   ]
  },
  {
   "cell_type": "markdown",
   "metadata": {
    "deletable": false,
    "editable": true,
    "jollity": {
     "kind": "text"
    }
   },
   "source": [
    "removes all comments from Markdown text cells, for example"
   ]
  },
  {
   "cell_type": "markdown",
   "metadata": {
    "deletable": false,
    "editable": true,
    "jollity": {
     "kind": "fence"
    }
   },
   "source": [
    "```\n",
    "This is some text. <!-- To do: needs rewriting -->\n",
    "<!-- Should have a figure here -->\n",
    "Next line of text.\n",
    "```"
   ]
  },
  {
   "cell_type": "markdown",
   "metadata": {
    "deletable": false,
    "editable": true,
    "jollity": {
     "kind": "text"
    }
   },
   "source": [
    "becomes"
   ]
  },
  {
   "cell_type": "markdown",
   "metadata": {
    "deletable": false,
    "editable": true,
    "jollity": {
     "kind": "fence"
    }
   },
   "source": [
    "```\n",
    "This is some text. <!-- To do: needs rewriting -->\n",
    "\n",
    "Next line of text.\n",
    "```"
   ]
  },
  {
   "cell_type": "markdown",
   "metadata": {
    "deletable": false,
    "editable": true,
    "jollity": {
     "kind": "text"
    }
   },
   "source": [
    "because only the second comment begins after 0–3 spaces at the start of a line."
   ]
  },
  {
   "cell_type": "markdown",
   "metadata": {
    "deletable": false,
    "editable": true,
    "jollity": {
     "heading": "(Un)Lock cells",
     "kind": "head",
     "level": 2
    }
   },
   "source": [
    "## (Un)Lock cells"
   ]
  },
  {
   "cell_type": "markdown",
   "metadata": {
    "deletable": false,
    "editable": true,
    "jollity": {
     "kind": "text"
    }
   },
   "source": [
    "Jupyter notebook cells can be locked against accidental deletion or change.\n",
    "If users want to edit or delete a locked cell, they have to unlock it first.\n",
    "A compliant Jupyter notebook interface won't allow users to delete cells\n",
    "that can't be edited.\n",
    "\n",
    "Jollity can lock or unlock cells of certain types for editing and/or deletion."
   ]
  },
  {
   "cell_type": "markdown",
   "metadata": {
    "deletable": false,
    "editable": true,
    "jollity": {
     "kind": "fence"
    }
   },
   "source": [
    "```py\n",
    "set_cells(nb, types:str, edit:bool, delete:bool)\n",
    "```"
   ]
  },
  {
   "cell_type": "markdown",
   "metadata": {
    "deletable": false,
    "editable": true,
    "jollity": {
     "kind": "text"
    }
   },
   "source": [
    "This function sets all cells of the given types to be editable and/or deletable.\n",
    "If you omit the argument, the cell's status isn't changed.\n",
    "This is useful if you for example only want some text cells do be editable.\n",
    "\n",
    "Argument `types` is a string with one or more of `markdown`, `code` and `raw`.\n",
    "If all cells should be set, use the string `'all'`.\n",
    "\n",
    "For example, `set_cells(nb, 'all', delete=False)` prevents all cells from being\n",
    "deleted but leaves their editable status unchanged. The call\n",
    "`set_cells(nb, 'code raw', edit=True, delete=False)` makes all\n",
    "code and raw cells editable but not deletable.\n",
    "The status of Markdown cells is not modified."
   ]
  },
  {
   "cell_type": "markdown",
   "metadata": {
    "deletable": false,
    "editable": true,
    "jollity": {
     "heading": "Extract code",
     "kind": "head",
     "level": 2
    }
   },
   "source": [
    "## Extract code"
   ]
  },
  {
   "cell_type": "markdown",
   "metadata": {
    "deletable": false,
    "editable": true,
    "jollity": {
     "kind": "text"
    }
   },
   "source": [
    "The Jupyter interface allows us to save a notebook as a code file, but it will\n",
    "also include all the text, as comments."
   ]
  },
  {
   "cell_type": "markdown",
   "metadata": {
    "deletable": false,
    "editable": true,
    "jollity": {
     "kind": "fence"
    }
   },
   "source": [
    "```py\n",
    "extract_code(nb, headings:bool=True) -> str\n",
    "```"
   ]
  },
  {
   "cell_type": "markdown",
   "metadata": {
    "deletable": false,
    "editable": true,
    "jollity": {
     "kind": "text"
    }
   },
   "source": [
    "This function returns a string will all the code cells and, if the second\n",
    "argument is true, all the headings, to put the code cells in context.\n",
    "This function assumes the code is in Python, R or some other language where\n",
    "comment lines start with `#`."
   ]
  }
 ],
 "metadata": {
  "jupytext": {
   "cell_metadata_filter": "-all",
   "main_language": "python",
   "notebook_metadata_filter": "-all"
  }
 },
 "nbformat": 4,
 "nbformat_minor": 4
}
